{
 "cells": [
  {
   "cell_type": "code",
   "execution_count": 1,
   "metadata": {},
   "outputs": [],
   "source": [
    "import sys\n",
    "from os import listdir\n",
    "from xml.etree import ElementTree\n",
    "from numpy import zeros\n",
    "from numpy import asarray\n",
    "from Mask_RCNN.mrcnn.utils import Dataset\n",
    "import skimage\n",
    "import re"
   ]
  },
  {
   "cell_type": "code",
   "execution_count": 2,
   "metadata": {},
   "outputs": [],
   "source": [
    "from mrcnn.utils import Dataset\n",
    "from mrcnn.config import Config\n",
    "from mrcnn.model import MaskRCNN\n",
    "import matplotlib.pyplot as pyplot"
   ]
  },
  {
   "cell_type": "code",
   "execution_count": 24,
   "metadata": {},
   "outputs": [],
   "source": [
    "class ObjectDataset(Dataset):\n",
    "    \n",
    "    def load_dataset(self, dataset_dir, is_train=True):\n",
    "        self.add_class(\"boat_dataset\", 1, \"boat\")\n",
    "        self.add_class(\"building_dataset\", 2, \"building\")\n",
    "        self.add_class(\"car_dataset\", 3, \"car\")\n",
    "        self.add_class(\"drone_dataset\", 4, \"drone\")\n",
    "        self.add_class(\"person_dataset\", 5, \"person\")\n",
    "        self.add_class(\"horseride_dataset\", 6, \"horseride\")\n",
    "        self.add_class(\"paraglider_dataset\", 7, \"paraglider\")\n",
    "        self.add_class(\"riding_dataset\", 8, \"riding\")\n",
    "        self.add_class(\"truck_dataset\", 9, \"truck\")\n",
    "        self.add_class(\"whale_dataset\", 10, \"whale\")\n",
    "        self.add_class(\"wakeboard_dataset\", 11, \"wakeboard\")\n",
    "        self.add_class(\"group_dataset\", 12, \"group\")\n",
    "        \n",
    "        # images \n",
    "        # folders to skip over\n",
    "        dir_file_c = {}\n",
    "        \n",
    "        for d in listdir(dataset_dir):\n",
    "            # create count for each file\n",
    "            if d == '.DS_Store':\n",
    "                continue\n",
    "            dir_file_c[d] = 0\n",
    "            for f in listdir(dataset_dir+'/'+d):\n",
    "                dir_file_c[d]+=1\n",
    "            dir_file_c[d]/=2\n",
    "    \n",
    "        im_id = 0\n",
    "        for thing in listdir(dataset_dir):\n",
    "            if thing == '.DS_Store':\n",
    "                continue\n",
    "            # gets class by removing the nunmbers form name of dir    \n",
    "            image_class = re.sub('[^a-zA-Z]+', '', str(thing))\n",
    "            \n",
    "            for i, file in enumerate(listdir(dataset_dir + '/' + thing)):\n",
    "                if file[-1:] == '.xml':\n",
    "                    continue\n",
    "                # find what percentage of a folder we're through\n",
    "                percent = float(i)/float(dir_file_c[thing])*50\n",
    "                # make sure that we aare only gethering trainig ot not traing images\n",
    "                if is_train and (percent >= 65):\n",
    "                    continue\n",
    "                if not is_train and (percent < 65):\n",
    "                    continue\n",
    "                \n",
    "                image_id = im_id\n",
    "                im_id +=1\n",
    "                # locations for images and annotations\n",
    "                im = dataset_dir + '/' + thing + '/' + file\n",
    "                an = dataset_dir + '/' + thing + '/' + file[:-4] + '.xml'\n",
    "                \n",
    "                self.add_image(image_class+'_dataset', image_id=image_id, path=im, annotation=an)\n",
    "\n",
    "\n",
    "    def extract_boxes(self, file):\n",
    "        tree = ElementTree.parse(file)\n",
    "        root = tree.getroot()\n",
    "        boxes = list()\n",
    "        # get box coordinates\n",
    "        for box in root.findall('.//bndbox'):\n",
    "            xmax = int(box.find('xmax').text)\n",
    "            xmin = int(box.find('xmin').text)\n",
    "            ymax = int(box.find('ymax').text)\n",
    "            ymin = int(box.find('ymin').text)\n",
    "            box_coords = [xmax, xmin, ymax, ymin]\n",
    "            boxes.append(box_coords)\n",
    "\n",
    "        height = int(root.find('.//size/height').text)\n",
    "        width = int(root.find('.//size/width').text)\n",
    "        # return value is a list with box coordinates and the dimensions of pic overall\n",
    "        return boxes, width, height\n",
    "    \n",
    "        \n",
    "    def load_masks(self, image_id):\n",
    "        # get details of image\n",
    "        info = self.image_info[image_id]\n",
    "        # define box file location\n",
    "        path = info['annotation']\n",
    "        print(path)\n",
    "        ind = re.sub('[^a-zA-Z]+', '', path[14:].split('/')[0])\n",
    "        # load XML\n",
    "        boxes, w, h = self.extract_boxes(path)\n",
    "        # create one array for all masks, each on a different channel\n",
    "        masks = zeros([h, w, len(boxes)], dtype='uint8')\n",
    "        # create masks\n",
    "        class_ids = list()\n",
    "        for i in range(len(boxes)):\n",
    "            box = boxes[i]\n",
    "            row_s, row_e = box[3], box[2]\n",
    "            col_s, col_e = box[1], box[0]\n",
    "            masks[row_s:row_e, col_s:col_e, i] = 1\n",
    "            for c in self.class_info:\n",
    "                if c['name'] == ind:\n",
    "                    class_ids.append(c['id'])\n",
    "                    break\n",
    "        return masks, asarray(class_ids, dtype='int32')\n",
    "        \n",
    "    def image_reference(self, image_id):\n",
    "        info = self.image_info[image_id]\n",
    "        return info ['path']"
   ]
  },
  {
   "cell_type": "code",
   "execution_count": 25,
   "metadata": {},
   "outputs": [
    {
     "name": "stdout",
     "output_type": "stream",
     "text": [
      "Train: 121620\n",
      "Test: 65420\n"
     ]
    }
   ],
   "source": [
    "train_set = ObjectDataset()\n",
    "train_set.load_dataset('data_training', is_train=True)\n",
    "train_set.prepare()\n",
    "print('Train: %d' % len(train_set.image_ids))\n",
    " \n",
    "# test/val set\n",
    "test_set = ObjectDataset()\n",
    "test_set.load_dataset('data_training', is_train=False)\n",
    "test_set.prepare()\n",
    "print('Test: %d' % len(test_set.image_ids))"
   ]
  },
  {
   "cell_type": "code",
   "execution_count": 26,
   "metadata": {},
   "outputs": [],
   "source": [
    "class ObjectConfg(Config):\n",
    "    NAME = \"object_cfg\"\n",
    "    NUM_CLASSES = 1 + 12\n",
    "    STEPS_PER_EPOCH = 121620"
   ]
  },
  {
   "cell_type": "code",
   "execution_count": 23,
   "metadata": {},
   "outputs": [
    {
     "ename": "AttributeError",
     "evalue": "'ObjectDataset' object has no attribute 'display'",
     "output_type": "error",
     "traceback": [
      "\u001b[0;31m---------------------------------------------------------------------------\u001b[0m",
      "\u001b[0;31mAttributeError\u001b[0m                            Traceback (most recent call last)",
      "\u001b[0;32m<ipython-input-23-332057c76491>\u001b[0m in \u001b[0;36m<module>\u001b[0;34m\u001b[0m\n\u001b[1;32m      1\u001b[0m \u001b[0mconfig\u001b[0m \u001b[0;34m=\u001b[0m \u001b[0mObjectDataset\u001b[0m\u001b[0;34m(\u001b[0m\u001b[0;34m)\u001b[0m\u001b[0;34m\u001b[0m\u001b[0;34m\u001b[0m\u001b[0m\n\u001b[0;32m----> 2\u001b[0;31m \u001b[0mconfig\u001b[0m\u001b[0;34m.\u001b[0m\u001b[0mdisplay\u001b[0m\u001b[0;34m(\u001b[0m\u001b[0;34m)\u001b[0m\u001b[0;34m\u001b[0m\u001b[0;34m\u001b[0m\u001b[0m\n\u001b[0m",
      "\u001b[0;31mAttributeError\u001b[0m: 'ObjectDataset' object has no attribute 'display'"
     ]
    }
   ],
   "source": [
    "config = ObjectDataset()\n",
    "config.display()"
   ]
  },
  {
   "cell_type": "code",
   "execution_count": null,
   "metadata": {},
   "outputs": [],
   "source": []
  }
 ],
 "metadata": {
  "kernelspec": {
   "display_name": "Python 3",
   "language": "python",
   "name": "python3"
  },
  "language_info": {
   "codemirror_mode": {
    "name": "ipython",
    "version": 3
   },
   "file_extension": ".py",
   "mimetype": "text/x-python",
   "name": "python",
   "nbconvert_exporter": "python",
   "pygments_lexer": "ipython3",
   "version": "3.7.6"
  }
 },
 "nbformat": 4,
 "nbformat_minor": 2
}
